{
 "cells": [
  {
   "cell_type": "code",
   "execution_count": 1,
   "metadata": {},
   "outputs": [
    {
     "name": "stdout",
     "output_type": "stream",
     "text": [
      "Requirement already satisfied: numpy in /usr/local/lib/python3.10/site-packages (1.22.0)\n",
      "Requirement already satisfied: pandas in /usr/local/lib/python3.10/site-packages (1.3.5)\n",
      "Requirement already satisfied: python-dateutil>=2.7.3 in /usr/local/lib/python3.10/site-packages (from pandas) (2.8.2)\n",
      "Requirement already satisfied: pytz>=2017.3 in /usr/local/lib/python3.10/site-packages (from pandas) (2021.3)\n",
      "Requirement already satisfied: six>=1.5 in /usr/local/lib/python3.10/site-packages (from python-dateutil>=2.7.3->pandas) (1.16.0)\n",
      "\u001b[33mWARNING: You are using pip version 22.0.2; however, version 22.0.4 is available.\n",
      "You should consider upgrading via the '/usr/local/opt/python@3.10/bin/python3.10 -m pip install --upgrade pip' command.\u001b[0m\u001b[33m\n",
      "\u001b[0mNote: you may need to restart the kernel to use updated packages.\n"
     ]
    }
   ],
   "source": [
    "pip install numpy pandas"
   ]
  },
  {
   "cell_type": "code",
   "execution_count": 2,
   "metadata": {},
   "outputs": [],
   "source": [
    "import numpy as np\n",
    "import pandas as pd\n",
    "import dateutil\n",
    "import datetime\n",
    "from filterpy.kalman import KalmanFilter"
   ]
  },
  {
   "cell_type": "code",
   "execution_count": 3,
   "metadata": {},
   "outputs": [],
   "source": [
    "import json\n",
    "with open(\"./sensor_data.json\", \"r\") as f:\n",
    "    data = json.load(f)"
   ]
  },
  {
   "cell_type": "code",
   "execution_count": 4,
   "metadata": {},
   "outputs": [],
   "source": [
    "timestamps = [dateutil.parser.parse(d[\"timestamp\"]) for d in data]\n",
    "temperature = [d[\"payload\"][\"temperature\"] if (\"temperature\" in d[\"payload\"]) else None for d in data]\n",
    "humidity = [d[\"payload\"][\"humidity\"] if (\"humidity\" in d[\"payload\"]) else None for d in data]"
   ]
  },
  {
   "cell_type": "code",
   "execution_count": 5,
   "metadata": {},
   "outputs": [],
   "source": [
    "zipped = zip(timestamps, temperature, humidity)\n",
    "df = pd.DataFrame(zipped, columns=[\"timestamp\", \"temperature\", \"humidity\"])\n",
    "df = df.loc[pd.notna(df[\"temperature\"])]\n",
    "df = df.sort_values(by=\"timestamp\", ascending=True).reset_index(drop=True)"
   ]
  },
  {
   "cell_type": "markdown",
   "metadata": {},
   "source": [
    "# Constant Data Predictor"
   ]
  },
  {
   "cell_type": "code",
   "execution_count": 6,
   "metadata": {},
   "outputs": [],
   "source": [
    "class Const_Predictor:\n",
    "    def __init__(self, x_0=0):\n",
    "        self.x = x_0\n",
    "\n",
    "    def predict(self):\n",
    "        return self.x\n",
    "    \n",
    "    def update(self, z):\n",
    "        self.x = z\n",
    "\n",
    "    def multiple_update(self, zs):\n",
    "        self.x = zs[-1]\n",
    "\n",
    "    def clone(self):\n",
    "        return Const_Predictor(self.x)"
   ]
  },
  {
   "cell_type": "markdown",
   "metadata": {},
   "source": [
    "## Kalman Filter Prediction\n",
    "A Kalman Filter is attempts to predict the true values behind a noisy data stream."
   ]
  },
  {
   "cell_type": "code",
   "execution_count": 34,
   "metadata": {},
   "outputs": [],
   "source": [
    "#x = predicted data\n",
    "#q = predicted variance\n",
    "#Q = system noise\n",
    "#R = input noise\n",
    "\n",
    "class Kalman_Predictor:\n",
    "    def __init__(self, x_0, P_0, R=1., Q=1.):\n",
    "        self.x = x_0\n",
    "        self.P = P_0\n",
    "        self.Q = Q\n",
    "        self.R = R\n",
    "\n",
    "    def predict(self):\n",
    "        self.P = self.P + np.random.normal(0, self.Q)\n",
    "        return self.x\n",
    "    \n",
    "    def update(self, z):\n",
    "        KG = self.P / (self.P + self.R)\n",
    "        self.x = self.x + (KG*(z - self.x))\n",
    "        self.P = self.P - (KG*self.P)\n",
    "        return self.x\n",
    "\n",
    "    def multiple_update(self, zs):\n",
    "        for z in zs:\n",
    "            self.predict()\n",
    "            self.update(z)\n",
    "        return self.x\n",
    "\n",
    "    def clone(self):\n",
    "        return Kalman_Predictor(self.x, self.P, self.Q, self.R)"
   ]
  },
  {
   "cell_type": "code",
   "execution_count": 24,
   "metadata": {},
   "outputs": [],
   "source": [
    "def prediction_func_accuracy(data, predictor, error_threshold = 0.05):\n",
    "\n",
    "    predictor_a = predictor\n",
    "    predictor_b = predictor.clone()\n",
    "\n",
    "    actual_data_values = []\n",
    "\n",
    "    predicted = 0\n",
    "    sent = 1\n",
    "    for z in data[1:]:\n",
    "        actual_data_values.append(z)\n",
    "        x = predictor_a.predict()\n",
    "        error = abs(x - z)\n",
    "        if error > error_threshold:\n",
    "            predictor_b.multiple_update(actual_data_values)\n",
    "            predictor_a = predictor_b.clone()\n",
    "            sent += 1\n",
    "        else:\n",
    "            predictor_a.update(x)\n",
    "            predicted += 1\n",
    "    \n",
    "    return predicted / (predicted + sent)"
   ]
  },
  {
   "cell_type": "code",
   "execution_count": 43,
   "metadata": {},
   "outputs": [
    {
     "name": "stdout",
     "output_type": "stream",
     "text": [
      "Accuracy for Kalman with temperature to 1dp = 0.8636003172085647\n",
      "Accuracy for Constant with temperature to 1dp = 0.865979381443299\n",
      "Accuracy for Kalman humidity to 0dp = 0.9373513084853291\n",
      "Accuracy for Constant humidity to 0dp = 0.9635210150674068\n"
     ]
    }
   ],
   "source": [
    "k_temp_accuracy = prediction_func_accuracy(df[\"temperature\"], Kalman_Predictor(df[\"temperature\"][0], P_0=1000, R=1, Q=0.1), error_threshold=0.05)\n",
    "k_humid_accuracy = prediction_func_accuracy(df[\"humidity\"], Kalman_Predictor(df[\"humidity\"][0], P_0=1000, R=25., Q=0.1), error_threshold=0.5)\n",
    "\n",
    "c_temp_accuracy = prediction_func_accuracy(df[\"temperature\"], Const_Predictor(df[\"temperature\"][0]), 0.05)\n",
    "c_humid_accuracy = prediction_func_accuracy(df[\"humidity\"], Const_Predictor(df[\"humidity\"][0]), 0.5)\n",
    "\n",
    "print(\"Accuracy for Kalman with temperature to 1dp =\", k_temp_accuracy)\n",
    "print(\"Accuracy for Constant with temperature to 1dp =\", c_temp_accuracy)\n",
    "print(\"Accuracy for Kalman humidity to 0dp =\", k_humid_accuracy)\n",
    "print(\"Accuracy for Constant humidity to 0dp =\", c_humid_accuracy)"
   ]
  }
 ],
 "metadata": {
  "interpreter": {
   "hash": "8f9328efe3468e6c370cdfed98702d3986faf748314d5bcec59da615d65baa7a"
  },
  "kernelspec": {
   "display_name": "Python 3.10.0 64-bit",
   "language": "python",
   "name": "python3"
  },
  "language_info": {
   "codemirror_mode": {
    "name": "ipython",
    "version": 3
   },
   "file_extension": ".py",
   "mimetype": "text/x-python",
   "name": "python",
   "nbconvert_exporter": "python",
   "pygments_lexer": "ipython3",
   "version": "3.10.2"
  }
 },
 "nbformat": 4,
 "nbformat_minor": 4
}
